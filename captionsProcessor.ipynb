{
 "cells": [
  {
   "cell_type": "code",
   "execution_count": 1,
   "metadata": {},
   "outputs": [
    {
     "name": "stderr",
     "output_type": "stream",
     "text": [
      "INFO:root:All configuration parameters set up successfully.\n",
      "INFO:root:Transcript data extracted from Captions\\Piazza Introduction Workshop\\Piazza Introduction Workshop - English.srt\n",
      "INFO:root:Transcript data shape: (1024, 3)\n",
      "INFO:root:Transcript data head:                                         Line                   Start  \\\n",
      "0  >> Me and Ryan are going to be presenting 1900-01-01 00:00:00.530   \n",
      "1      Piazza and he will be able to go over 1900-01-01 00:00:02.880   \n",
      "2    the integration into Canvas at the end. 1900-01-01 00:00:05.130   \n",
      "3      But I really just wanted to introduce 1900-01-01 00:00:09.210   \n",
      "4            you guys to Piazza, what it is, 1900-01-01 00:00:10.860   \n",
      "\n",
      "                      End  \n",
      "0 1900-01-01 00:00:02.880  \n",
      "1 1900-01-01 00:00:05.130  \n",
      "2 1900-01-01 00:00:09.210  \n",
      "3 1900-01-01 00:00:10.860  \n",
      "4 1900-01-01 00:00:12.750  \n",
      "INFO:root:Combined Transcript data shape: (84, 3)\n",
      "INFO:root:Combined Transcript data head:                                       Combined Lines                   Start  \\\n",
      "0  >> Me and Ryan are going to be presenting Piaz... 1900-01-01 00:00:00.530   \n",
      "1  comfortable speaking up in class, allowing the... 1900-01-01 00:00:31.200   \n",
      "2  there's a lot of configuration involved in Pia... 1900-01-01 00:01:02.060   \n",
      "3  and you can see if you have any unresolved fol... 1900-01-01 00:01:33.170   \n",
      "4  The first section is your Pinned section and t... 1900-01-01 00:02:03.710   \n",
      "\n",
      "                      End  \n",
      "0 1900-01-01 00:00:31.200  \n",
      "1 1900-01-01 00:01:02.060  \n",
      "2 1900-01-01 00:01:33.170  \n",
      "3 1900-01-01 00:02:03.710  \n",
      "4 1900-01-01 00:02:34.970  \n"
     ]
    }
   ],
   "source": [
    "%reload_ext autoreload\n",
    "%autoreload 2\n",
    "\n",
    "from config import Config\n",
    "from transcriptLoader import TranscriptData\n",
    "\n",
    "# videoNames = [\n",
    "#     \"New Quizzes Video\",\n",
    "#     \"Rearrange Playlist video\",\n",
    "#     \"IMSE 514 Presentation\",\n",
    "#     \"New Google Assignments in Canvas\",\n",
    "#     \"Piazza Introduction Workshop\",\n",
    "# ]\n",
    "\n",
    "config = Config()\n",
    "config.videoToUse = \"Piazza Introduction Workshop\"\n",
    "config.setFromEnv()\n",
    "\n",
    "\n",
    "videoData = TranscriptData(config)"
   ]
  },
  {
   "cell_type": "code",
   "execution_count": 2,
   "metadata": {},
   "outputs": [
    {
     "name": "stderr",
     "output_type": "stream",
     "text": [
      "INFO:sentence_transformers.SentenceTransformer:Load pretrained SentenceTransformer: sentence-transformers/all-MiniLM-L6-v2\n",
      "INFO:sentence_transformers.SentenceTransformer:Use pytorch device_name: cpu\n",
      "INFO:root:Topic Model and Data loaded from saved files.\n",
      "INFO:root:Topics over Time Head:    Topic                                             Words  Frequency  \\\n",
      "0     -1      Educational Platform Interface Guide, , , ,           1   \n",
      "1      0                  Piazza platform overview, , , ,           2   \n",
      "2      1  Educational Discussion Platform Features, , , ,           1   \n",
      "3     -1      Piazza Classroom Management Features, , , ,           2   \n",
      "4      0               Piazza Classroom Management, , , ,           2   \n",
      "\n",
      "                      Timestamp  \n",
      "0 1899-12-31 23:59:57.897005000  \n",
      "1 1899-12-31 23:59:57.897005000  \n",
      "2 1899-12-31 23:59:57.897005000  \n",
      "3 1900-01-01 00:02:00.211590909  \n",
      "4 1900-01-01 00:02:00.211590909  \n"
     ]
    },
    {
     "name": "stdout",
     "output_type": "stream",
     "text": [
      "Topic Model and Data loaded from saved files.\n"
     ]
    }
   ],
   "source": [
    "from topicExtractor import retrieveTopics\n",
    "\n",
    "topicModeller = retrieveTopics(config, videoData, overwrite=False)"
   ]
  },
  {
   "cell_type": "code",
   "execution_count": null,
   "metadata": {},
   "outputs": [],
   "source": []
  }
 ],
 "metadata": {
  "kernelspec": {
   "display_name": "annoto-gai",
   "language": "python",
   "name": "python3"
  },
  "language_info": {
   "codemirror_mode": {
    "name": "ipython",
    "version": 3
   },
   "file_extension": ".py",
   "mimetype": "text/x-python",
   "name": "python",
   "nbconvert_exporter": "python",
   "pygments_lexer": "ipython3",
   "version": "3.12.3"
  }
 },
 "nbformat": 4,
 "nbformat_minor": 2
}
