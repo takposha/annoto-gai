{
 "cells": [
  {
   "cell_type": "code",
   "execution_count": 1,
   "metadata": {},
   "outputs": [],
   "source": [
    "%reload_ext autoreload\n",
    "%autoreload 2\n",
    "\n",
    "from config import Config\n",
    "from transcriptLoader import getCombinedTranscripts \n",
    "\n",
    "config = Config()\n",
    "config.setFromEnv()\n",
    "\n",
    "videoNames = [\n",
    "    \"New Quizzes Video\",\n",
    "    \"Rearrange Playlist video\",\n",
    "    \"IMSE 514 Presentation\",\n",
    "    \"New Google Assignments in Canvas\",\n",
    "    \"Piazza Introduction Workshop\",\n",
    "]\n",
    "\n",
    "config.videoToUse = \"New Google Assignments in Canvas\"\n",
    "transcriptToUse = getCombinedTranscripts(\n",
    "    config.videoToUse,\n",
    "    captionsFolder=config.captionsFolder,\n",
    ")"
   ]
  },
  {
   "cell_type": "code",
   "execution_count": 3,
   "metadata": {},
   "outputs": [
    {
     "name": "stdout",
     "output_type": "stream",
     "text": [
      "Topic Model and Data loaded from saved files.\n"
     ]
    }
   ],
   "source": [
    "from topicExtractor import retrieveTopics\n",
    "\n",
    "topicsOverTime, topicModel = retrieveTopics(config.videoToUse, transcriptToUse, config=config)"
   ]
  },
  {
   "cell_type": "code",
   "execution_count": null,
   "metadata": {},
   "outputs": [],
   "source": []
  }
 ],
 "metadata": {
  "kernelspec": {
   "display_name": "annoto-gai",
   "language": "python",
   "name": "python3"
  },
  "language_info": {
   "codemirror_mode": {
    "name": "ipython",
    "version": 3
   },
   "file_extension": ".py",
   "mimetype": "text/x-python",
   "name": "python",
   "nbconvert_exporter": "python",
   "pygments_lexer": "ipython3",
   "version": "3.12.3"
  }
 },
 "nbformat": 4,
 "nbformat_minor": 2
}
