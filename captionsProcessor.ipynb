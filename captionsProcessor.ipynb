{
 "cells": [
  {
   "cell_type": "markdown",
   "metadata": {},
   "source": [
    "## Initialize libraries, setup Config file and retrieve transcripts"
   ]
  },
  {
   "cell_type": "code",
   "execution_count": 1,
   "metadata": {},
   "outputs": [],
   "source": [
    "from helper import *\n",
    "\n",
    "config = Config()\n",
    "config.setFromEnv()\n",
    "\n",
    "videoNames = [\n",
    "    \"New Quizzes Video\",\n",
    "    \"Rearrange Playlist video\",\n",
    "    \"IMSE 514 Presentation\",\n",
    "    \"New Google Assignments in Canvas\",\n",
    "    \"Piazza Introduction Workshop\",\n",
    "]\n",
    "\n",
    "videoToUse = \"New Google Assignments in Canvas\"\n",
    "transcriptToUse = getCombinedTranscripts(\n",
    "    videoToUse,\n",
    "    captionsFolder=config.captionsFolder,\n",
    ")"
   ]
  },
  {
   "cell_type": "markdown",
   "metadata": {},
   "source": [
    "## Run BERTTopic to get Topics over Time\n",
    "\n",
    "### Choice of Representation Model\n",
    "3 choices of  Representation Models that can be used:\n",
    "\n",
    "    'simple': Uses BERTopic alone, takes -40 seconds to run, but has no token cost\n",
    "\n",
    "The next two models leverage GenAI Large Language Models (LLMs) to take extracted keywords in a topic and form a more human-interpretable topic name. This will also incur an associated token cost for using the LLM.\n",
    "\n",
    "    'openai': Uses BERTopic and OpenAI to generate interpretable topic titles, takes ~6 minutes to run\n",
    "    'langchain': Uses BERTopic and LangChain to generate interpretable topic titles, takes ~3 minutes to run\n",
    "\n",
    "\n",
    "The default is `langchain`, as it is faster and seems to perform better regarding the titles generated. \n",
    "It also has an easier to modify prompt if you want some flexibility there.\n",
    "\n",
    "This can be changed by adjusting the `representationModelType` variable in the config file.\n",
    "\n",
    "\n",
    "### Using KeyBERT\n",
    "[KeyBERT is a recommended library](https://maartengr.github.io/BERTopic/getting_started/tips_and_tricks/tips_and_tricks.html#keybert-bertopic) to use when setting up the `BERTopic` model. \n",
    "\n",
    "It helps with extracting pertinent keywords in a document, and should help produce topics with more relevant keywords attached. \n",
    "\n",
    "Defaults to `True`, and can be adjust via the `useKeyBERT` vaitable in the config file."
   ]
  },
  {
   "cell_type": "code",
   "execution_count": 2,
   "metadata": {},
   "outputs": [],
   "source": [
    "topicsOverTime, topicModel = retrieveTopics(videoToUse, transcriptToUse, config=config)"
   ]
  },
  {
   "cell_type": "markdown",
   "metadata": {},
   "source": [
    "### Visualize topics over time"
   ]
  },
  {
   "cell_type": "code",
   "execution_count": 3,
   "metadata": {},
   "outputs": [
    {
     "data": {
      "application/vnd.plotly.v1+json": {
       "config": {
        "plotlyServerURL": "https://plot.ly"
       },
       "data": [
        {
         "hoverinfo": "text",
         "hovertext": [
          "<b>Topic 0</b><br>Words: Educational Assignment Management, , , , ",
          "<b>Topic 0</b><br>Words: Google Assignments Integration, , , , ",
          "<b>Topic 0</b><br>Words: Educational Document Automation, , , , ",
          "<b>Topic 0</b><br>Words: Google Assignments Tool Overview, , , , ",
          "<b>Topic 0</b><br>Words: Google Docs for Education Tool, , , , ",
          "<b>Topic 0</b><br>Words: Google Assignments Tool Features, , , , ",
          "<b>Topic 0</b><br>Words: Google Assignments Integration, , , , ",
          "<b>Topic 0</b><br>Words: Google Assignments LTI Integration Pilot, , , , ",
          "<b>Topic 0</b><br>Words: Google Assignments grading limitations, , , , ",
          "<b>Topic 0</b><br>Words: TEDx Participation Opt-in Form, , , , ",
          "<b>Topic 0</b><br>Words: Google Assignments Integration Instructions, , , , ",
          "<b>Topic 0</b><br>Words: Google Assignments Tutorial, , , , ",
          "<b>Topic 0</b><br>Words: Educational Assignment Instructions, , , , ",
          "<b>Topic 0</b><br>Words: Educational Technology Tutorial, , , , ",
          "<b>Topic 0</b><br>Words: Google Assignments Configuration, , , , ",
          "<b>Topic 0</b><br>Words: Document Editing and Submission Process, , , , ",
          "<b>Topic 0</b><br>Words: Google Assignments Submission Process, , , , ",
          "<b>Topic 0</b><br>Words: Google Assignments Tutorial, , , , ",
          "<b>Topic 0</b><br>Words: Team Project Collaboration Resources, , , , "
         ],
         "marker": {
          "color": "#E69F00"
         },
         "mode": "lines",
         "name": "0_Google Assignments Tutorial___",
         "type": "scatter",
         "x": [
          "1900-01-01T00:00:01.605035",
          "1900-01-01T00:02:07.660735",
          "1900-01-01T00:04:09.571470",
          "1900-01-01T00:06:11.482205",
          "1900-01-01T00:08:13.392941",
          "1900-01-01T00:10:15.303676",
          "1900-01-01T00:14:19.125147",
          "1900-01-01T00:16:21.035882",
          "1900-01-01T00:20:24.857352",
          "1900-01-01T00:22:26.768088",
          "1900-01-01T00:26:30.589558",
          "1900-01-01T00:28:32.500294",
          "1900-01-01T00:30:34.411029",
          "1900-01-01T00:34:38.232500",
          "1900-01-01T00:36:40.143235",
          "1900-01-01T00:38:42.053970",
          "1900-01-01T00:40:43.964705",
          "1900-01-01T00:54:57.339852",
          "1900-01-01T01:05:06.893529"
         ],
         "y": [
          1,
          3,
          2,
          2,
          1,
          2,
          2,
          2,
          1,
          1,
          3,
          2,
          2,
          2,
          2,
          1,
          3,
          1,
          1
         ]
        },
        {
         "hoverinfo": "text",
         "hovertext": [
          "<b>Topic 1</b><br>Words: Educational Feedback Tools, , , , ",
          "<b>Topic 1</b><br>Words: Document submission guidelines, , , , ",
          "<b>Topic 1</b><br>Words: Feedback Management Process, , , , ",
          "<b>Topic 1</b><br>Words: Assignment Submission Policies, , , , ",
          "<b>Topic 1</b><br>Words: Online Submission Process, , , , ",
          "<b>Topic 1</b><br>Words: Online Assignment Submission Tracking, , , , ",
          "<b>Topic 1</b><br>Words: Document Review Process, , , , ",
          "<b>Topic 1</b><br>Words: Educational Grading System Tutorial, , , , ",
          "<b>Topic 1</b><br>Words: Student Feedback Process, , , , ",
          "<b>Topic 1</b><br>Words: Online Feedback and Communication, , , , ",
          "<b>Topic 1</b><br>Words: Educational Grading System Guidelines, , , , ",
          "<b>Topic 1</b><br>Words: Without additional context or content from the documents mentioned, it's not possible to provide an accurate summary label. If you can provide more details or excerpts from the documents, I could attempt to give a summary label., , , , ",
          "<b>Topic 1</b><br>Words: Rubric Commenting Features, , , , ",
          "<b>Topic 1</b><br>Words: Educational Feedback System, , , , ",
          "<b>Topic 1</b><br>Words: Workshop Discussion Closure, , , , "
         ],
         "marker": {
          "color": "#56B4E9"
         },
         "mode": "lines",
         "name": "1_Educational Platform Comment Features_...",
         "type": "scatter",
         "x": [
          "1900-01-01T00:12:17.214411",
          "1900-01-01T00:22:26.768088",
          "1900-01-01T00:24:28.678823",
          "1900-01-01T00:38:42.053970",
          "1900-01-01T00:40:43.964705",
          "1900-01-01T00:42:45.875441",
          "1900-01-01T00:44:47.786176",
          "1900-01-01T00:46:49.696911",
          "1900-01-01T00:48:51.607647",
          "1900-01-01T00:50:53.518382",
          "1900-01-01T00:52:55.429117",
          "1900-01-01T00:54:57.339852",
          "1900-01-01T00:56:59.250588",
          "1900-01-01T01:01:03.072058",
          "1900-01-01T01:07:08.804264"
         ],
         "y": [
          1,
          1,
          2,
          1,
          1,
          1,
          3,
          3,
          2,
          2,
          1,
          1,
          1,
          1,
          1
         ]
        },
        {
         "hoverinfo": "text",
         "hovertext": [
          "<b>Topic 2</b><br>Words: Educational Assignment Tools, , , , ",
          "<b>Topic 2</b><br>Words: Ice Cream Rubric Exercise, , , , ",
          "<b>Topic 2</b><br>Words: Rubric Creation in Educational Platforms, , , , ",
          "<b>Topic 2</b><br>Words: Document Review Process, , , , ",
          "<b>Topic 2</b><br>Words: Teacher's Assignment Management, , , , ",
          "<b>Topic 2</b><br>Words: Online Education Platform Navigation, , , , ",
          "<b>Topic 2</b><br>Words: Rubric Creation and Usage, , , , ",
          "<b>Topic 2</b><br>Words: Online Assignment Submission, , , , "
         ],
         "marker": {
          "color": "#009E73"
         },
         "mode": "lines",
         "name": "2_Educational Rubric Creation___",
         "type": "scatter",
         "x": [
          "1900-01-01T00:00:01.605035",
          "1900-01-01T00:30:34.411029",
          "1900-01-01T00:32:36.321764",
          "1900-01-01T00:34:38.232500",
          "1900-01-01T00:36:40.143235",
          "1900-01-01T00:42:45.875441",
          "1900-01-01T00:52:55.429117",
          "1900-01-01T00:56:59.250588"
         ],
         "y": [
          1,
          2,
          2,
          1,
          1,
          1,
          2,
          2
         ]
        },
        {
         "hoverinfo": "text",
         "hovertext": [
          "<b>Topic 3</b><br>Words: Educational Grading Tools Comparison, , , , ",
          "<b>Topic 3</b><br>Words: Canvas and Google Assignments Integration, , , , ",
          "<b>Topic 3</b><br>Words: Google Assignments Grading Integration, , , , ",
          "<b>Topic 3</b><br>Words: Grade Integration Limitations, , , , ",
          "<b>Topic 3</b><br>Words: Google Assignments Grading Instructions, , , , ",
          "<b>Topic 3</b><br>Words: Educational Technology Feedback Methods, , , , ",
          "<b>Topic 3</b><br>Words: Google Assignments Integration, , , , "
         ],
         "marker": {
          "color": "#F0E442"
         },
         "mode": "lines",
         "name": "3_Canvas and Google Assignments Integrat...",
         "type": "scatter",
         "x": [
          "1900-01-01T00:06:11.482205",
          "1900-01-01T00:08:13.392941",
          "1900-01-01T00:18:22.946617",
          "1900-01-01T00:20:24.857352",
          "1900-01-01T00:52:55.429117",
          "1900-01-01T01:01:03.072058",
          "1900-01-01T01:03:04.982794"
         ],
         "y": [
          1,
          1,
          3,
          1,
          1,
          1,
          2
         ]
        }
       ],
       "layout": {
        "height": 450,
        "hoverlabel": {
         "bgcolor": "white",
         "font": {
          "family": "Rockwell",
          "size": 16
         }
        },
        "legend": {
         "title": {
          "text": "<b>Global Topic Representation"
         }
        },
        "template": {
         "data": {
          "bar": [
           {
            "error_x": {
             "color": "rgb(36,36,36)"
            },
            "error_y": {
             "color": "rgb(36,36,36)"
            },
            "marker": {
             "line": {
              "color": "white",
              "width": 0.5
             },
             "pattern": {
              "fillmode": "overlay",
              "size": 10,
              "solidity": 0.2
             }
            },
            "type": "bar"
           }
          ],
          "barpolar": [
           {
            "marker": {
             "line": {
              "color": "white",
              "width": 0.5
             },
             "pattern": {
              "fillmode": "overlay",
              "size": 10,
              "solidity": 0.2
             }
            },
            "type": "barpolar"
           }
          ],
          "carpet": [
           {
            "aaxis": {
             "endlinecolor": "rgb(36,36,36)",
             "gridcolor": "white",
             "linecolor": "white",
             "minorgridcolor": "white",
             "startlinecolor": "rgb(36,36,36)"
            },
            "baxis": {
             "endlinecolor": "rgb(36,36,36)",
             "gridcolor": "white",
             "linecolor": "white",
             "minorgridcolor": "white",
             "startlinecolor": "rgb(36,36,36)"
            },
            "type": "carpet"
           }
          ],
          "choropleth": [
           {
            "colorbar": {
             "outlinewidth": 1,
             "tickcolor": "rgb(36,36,36)",
             "ticks": "outside"
            },
            "type": "choropleth"
           }
          ],
          "contour": [
           {
            "colorbar": {
             "outlinewidth": 1,
             "tickcolor": "rgb(36,36,36)",
             "ticks": "outside"
            },
            "colorscale": [
             [
              0,
              "#440154"
             ],
             [
              0.1111111111111111,
              "#482878"
             ],
             [
              0.2222222222222222,
              "#3e4989"
             ],
             [
              0.3333333333333333,
              "#31688e"
             ],
             [
              0.4444444444444444,
              "#26828e"
             ],
             [
              0.5555555555555556,
              "#1f9e89"
             ],
             [
              0.6666666666666666,
              "#35b779"
             ],
             [
              0.7777777777777778,
              "#6ece58"
             ],
             [
              0.8888888888888888,
              "#b5de2b"
             ],
             [
              1,
              "#fde725"
             ]
            ],
            "type": "contour"
           }
          ],
          "contourcarpet": [
           {
            "colorbar": {
             "outlinewidth": 1,
             "tickcolor": "rgb(36,36,36)",
             "ticks": "outside"
            },
            "type": "contourcarpet"
           }
          ],
          "heatmap": [
           {
            "colorbar": {
             "outlinewidth": 1,
             "tickcolor": "rgb(36,36,36)",
             "ticks": "outside"
            },
            "colorscale": [
             [
              0,
              "#440154"
             ],
             [
              0.1111111111111111,
              "#482878"
             ],
             [
              0.2222222222222222,
              "#3e4989"
             ],
             [
              0.3333333333333333,
              "#31688e"
             ],
             [
              0.4444444444444444,
              "#26828e"
             ],
             [
              0.5555555555555556,
              "#1f9e89"
             ],
             [
              0.6666666666666666,
              "#35b779"
             ],
             [
              0.7777777777777778,
              "#6ece58"
             ],
             [
              0.8888888888888888,
              "#b5de2b"
             ],
             [
              1,
              "#fde725"
             ]
            ],
            "type": "heatmap"
           }
          ],
          "heatmapgl": [
           {
            "colorbar": {
             "outlinewidth": 1,
             "tickcolor": "rgb(36,36,36)",
             "ticks": "outside"
            },
            "colorscale": [
             [
              0,
              "#440154"
             ],
             [
              0.1111111111111111,
              "#482878"
             ],
             [
              0.2222222222222222,
              "#3e4989"
             ],
             [
              0.3333333333333333,
              "#31688e"
             ],
             [
              0.4444444444444444,
              "#26828e"
             ],
             [
              0.5555555555555556,
              "#1f9e89"
             ],
             [
              0.6666666666666666,
              "#35b779"
             ],
             [
              0.7777777777777778,
              "#6ece58"
             ],
             [
              0.8888888888888888,
              "#b5de2b"
             ],
             [
              1,
              "#fde725"
             ]
            ],
            "type": "heatmapgl"
           }
          ],
          "histogram": [
           {
            "marker": {
             "line": {
              "color": "white",
              "width": 0.6
             }
            },
            "type": "histogram"
           }
          ],
          "histogram2d": [
           {
            "colorbar": {
             "outlinewidth": 1,
             "tickcolor": "rgb(36,36,36)",
             "ticks": "outside"
            },
            "colorscale": [
             [
              0,
              "#440154"
             ],
             [
              0.1111111111111111,
              "#482878"
             ],
             [
              0.2222222222222222,
              "#3e4989"
             ],
             [
              0.3333333333333333,
              "#31688e"
             ],
             [
              0.4444444444444444,
              "#26828e"
             ],
             [
              0.5555555555555556,
              "#1f9e89"
             ],
             [
              0.6666666666666666,
              "#35b779"
             ],
             [
              0.7777777777777778,
              "#6ece58"
             ],
             [
              0.8888888888888888,
              "#b5de2b"
             ],
             [
              1,
              "#fde725"
             ]
            ],
            "type": "histogram2d"
           }
          ],
          "histogram2dcontour": [
           {
            "colorbar": {
             "outlinewidth": 1,
             "tickcolor": "rgb(36,36,36)",
             "ticks": "outside"
            },
            "colorscale": [
             [
              0,
              "#440154"
             ],
             [
              0.1111111111111111,
              "#482878"
             ],
             [
              0.2222222222222222,
              "#3e4989"
             ],
             [
              0.3333333333333333,
              "#31688e"
             ],
             [
              0.4444444444444444,
              "#26828e"
             ],
             [
              0.5555555555555556,
              "#1f9e89"
             ],
             [
              0.6666666666666666,
              "#35b779"
             ],
             [
              0.7777777777777778,
              "#6ece58"
             ],
             [
              0.8888888888888888,
              "#b5de2b"
             ],
             [
              1,
              "#fde725"
             ]
            ],
            "type": "histogram2dcontour"
           }
          ],
          "mesh3d": [
           {
            "colorbar": {
             "outlinewidth": 1,
             "tickcolor": "rgb(36,36,36)",
             "ticks": "outside"
            },
            "type": "mesh3d"
           }
          ],
          "parcoords": [
           {
            "line": {
             "colorbar": {
              "outlinewidth": 1,
              "tickcolor": "rgb(36,36,36)",
              "ticks": "outside"
             }
            },
            "type": "parcoords"
           }
          ],
          "pie": [
           {
            "automargin": true,
            "type": "pie"
           }
          ],
          "scatter": [
           {
            "fillpattern": {
             "fillmode": "overlay",
             "size": 10,
             "solidity": 0.2
            },
            "type": "scatter"
           }
          ],
          "scatter3d": [
           {
            "line": {
             "colorbar": {
              "outlinewidth": 1,
              "tickcolor": "rgb(36,36,36)",
              "ticks": "outside"
             }
            },
            "marker": {
             "colorbar": {
              "outlinewidth": 1,
              "tickcolor": "rgb(36,36,36)",
              "ticks": "outside"
             }
            },
            "type": "scatter3d"
           }
          ],
          "scattercarpet": [
           {
            "marker": {
             "colorbar": {
              "outlinewidth": 1,
              "tickcolor": "rgb(36,36,36)",
              "ticks": "outside"
             }
            },
            "type": "scattercarpet"
           }
          ],
          "scattergeo": [
           {
            "marker": {
             "colorbar": {
              "outlinewidth": 1,
              "tickcolor": "rgb(36,36,36)",
              "ticks": "outside"
             }
            },
            "type": "scattergeo"
           }
          ],
          "scattergl": [
           {
            "marker": {
             "colorbar": {
              "outlinewidth": 1,
              "tickcolor": "rgb(36,36,36)",
              "ticks": "outside"
             }
            },
            "type": "scattergl"
           }
          ],
          "scattermapbox": [
           {
            "marker": {
             "colorbar": {
              "outlinewidth": 1,
              "tickcolor": "rgb(36,36,36)",
              "ticks": "outside"
             }
            },
            "type": "scattermapbox"
           }
          ],
          "scatterpolar": [
           {
            "marker": {
             "colorbar": {
              "outlinewidth": 1,
              "tickcolor": "rgb(36,36,36)",
              "ticks": "outside"
             }
            },
            "type": "scatterpolar"
           }
          ],
          "scatterpolargl": [
           {
            "marker": {
             "colorbar": {
              "outlinewidth": 1,
              "tickcolor": "rgb(36,36,36)",
              "ticks": "outside"
             }
            },
            "type": "scatterpolargl"
           }
          ],
          "scatterternary": [
           {
            "marker": {
             "colorbar": {
              "outlinewidth": 1,
              "tickcolor": "rgb(36,36,36)",
              "ticks": "outside"
             }
            },
            "type": "scatterternary"
           }
          ],
          "surface": [
           {
            "colorbar": {
             "outlinewidth": 1,
             "tickcolor": "rgb(36,36,36)",
             "ticks": "outside"
            },
            "colorscale": [
             [
              0,
              "#440154"
             ],
             [
              0.1111111111111111,
              "#482878"
             ],
             [
              0.2222222222222222,
              "#3e4989"
             ],
             [
              0.3333333333333333,
              "#31688e"
             ],
             [
              0.4444444444444444,
              "#26828e"
             ],
             [
              0.5555555555555556,
              "#1f9e89"
             ],
             [
              0.6666666666666666,
              "#35b779"
             ],
             [
              0.7777777777777778,
              "#6ece58"
             ],
             [
              0.8888888888888888,
              "#b5de2b"
             ],
             [
              1,
              "#fde725"
             ]
            ],
            "type": "surface"
           }
          ],
          "table": [
           {
            "cells": {
             "fill": {
              "color": "rgb(237,237,237)"
             },
             "line": {
              "color": "white"
             }
            },
            "header": {
             "fill": {
              "color": "rgb(217,217,217)"
             },
             "line": {
              "color": "white"
             }
            },
            "type": "table"
           }
          ]
         },
         "layout": {
          "annotationdefaults": {
           "arrowhead": 0,
           "arrowwidth": 1
          },
          "autotypenumbers": "strict",
          "coloraxis": {
           "colorbar": {
            "outlinewidth": 1,
            "tickcolor": "rgb(36,36,36)",
            "ticks": "outside"
           }
          },
          "colorscale": {
           "diverging": [
            [
             0,
             "rgb(103,0,31)"
            ],
            [
             0.1,
             "rgb(178,24,43)"
            ],
            [
             0.2,
             "rgb(214,96,77)"
            ],
            [
             0.3,
             "rgb(244,165,130)"
            ],
            [
             0.4,
             "rgb(253,219,199)"
            ],
            [
             0.5,
             "rgb(247,247,247)"
            ],
            [
             0.6,
             "rgb(209,229,240)"
            ],
            [
             0.7,
             "rgb(146,197,222)"
            ],
            [
             0.8,
             "rgb(67,147,195)"
            ],
            [
             0.9,
             "rgb(33,102,172)"
            ],
            [
             1,
             "rgb(5,48,97)"
            ]
           ],
           "sequential": [
            [
             0,
             "#440154"
            ],
            [
             0.1111111111111111,
             "#482878"
            ],
            [
             0.2222222222222222,
             "#3e4989"
            ],
            [
             0.3333333333333333,
             "#31688e"
            ],
            [
             0.4444444444444444,
             "#26828e"
            ],
            [
             0.5555555555555556,
             "#1f9e89"
            ],
            [
             0.6666666666666666,
             "#35b779"
            ],
            [
             0.7777777777777778,
             "#6ece58"
            ],
            [
             0.8888888888888888,
             "#b5de2b"
            ],
            [
             1,
             "#fde725"
            ]
           ],
           "sequentialminus": [
            [
             0,
             "#440154"
            ],
            [
             0.1111111111111111,
             "#482878"
            ],
            [
             0.2222222222222222,
             "#3e4989"
            ],
            [
             0.3333333333333333,
             "#31688e"
            ],
            [
             0.4444444444444444,
             "#26828e"
            ],
            [
             0.5555555555555556,
             "#1f9e89"
            ],
            [
             0.6666666666666666,
             "#35b779"
            ],
            [
             0.7777777777777778,
             "#6ece58"
            ],
            [
             0.8888888888888888,
             "#b5de2b"
            ],
            [
             1,
             "#fde725"
            ]
           ]
          },
          "colorway": [
           "#1F77B4",
           "#FF7F0E",
           "#2CA02C",
           "#D62728",
           "#9467BD",
           "#8C564B",
           "#E377C2",
           "#7F7F7F",
           "#BCBD22",
           "#17BECF"
          ],
          "font": {
           "color": "rgb(36,36,36)"
          },
          "geo": {
           "bgcolor": "white",
           "lakecolor": "white",
           "landcolor": "white",
           "showlakes": true,
           "showland": true,
           "subunitcolor": "white"
          },
          "hoverlabel": {
           "align": "left"
          },
          "hovermode": "closest",
          "mapbox": {
           "style": "light"
          },
          "paper_bgcolor": "white",
          "plot_bgcolor": "white",
          "polar": {
           "angularaxis": {
            "gridcolor": "rgb(232,232,232)",
            "linecolor": "rgb(36,36,36)",
            "showgrid": false,
            "showline": true,
            "ticks": "outside"
           },
           "bgcolor": "white",
           "radialaxis": {
            "gridcolor": "rgb(232,232,232)",
            "linecolor": "rgb(36,36,36)",
            "showgrid": false,
            "showline": true,
            "ticks": "outside"
           }
          },
          "scene": {
           "xaxis": {
            "backgroundcolor": "white",
            "gridcolor": "rgb(232,232,232)",
            "gridwidth": 2,
            "linecolor": "rgb(36,36,36)",
            "showbackground": true,
            "showgrid": false,
            "showline": true,
            "ticks": "outside",
            "zeroline": false,
            "zerolinecolor": "rgb(36,36,36)"
           },
           "yaxis": {
            "backgroundcolor": "white",
            "gridcolor": "rgb(232,232,232)",
            "gridwidth": 2,
            "linecolor": "rgb(36,36,36)",
            "showbackground": true,
            "showgrid": false,
            "showline": true,
            "ticks": "outside",
            "zeroline": false,
            "zerolinecolor": "rgb(36,36,36)"
           },
           "zaxis": {
            "backgroundcolor": "white",
            "gridcolor": "rgb(232,232,232)",
            "gridwidth": 2,
            "linecolor": "rgb(36,36,36)",
            "showbackground": true,
            "showgrid": false,
            "showline": true,
            "ticks": "outside",
            "zeroline": false,
            "zerolinecolor": "rgb(36,36,36)"
           }
          },
          "shapedefaults": {
           "fillcolor": "black",
           "line": {
            "width": 0
           },
           "opacity": 0.3
          },
          "ternary": {
           "aaxis": {
            "gridcolor": "rgb(232,232,232)",
            "linecolor": "rgb(36,36,36)",
            "showgrid": false,
            "showline": true,
            "ticks": "outside"
           },
           "baxis": {
            "gridcolor": "rgb(232,232,232)",
            "linecolor": "rgb(36,36,36)",
            "showgrid": false,
            "showline": true,
            "ticks": "outside"
           },
           "bgcolor": "white",
           "caxis": {
            "gridcolor": "rgb(232,232,232)",
            "linecolor": "rgb(36,36,36)",
            "showgrid": false,
            "showline": true,
            "ticks": "outside"
           }
          },
          "title": {
           "x": 0.05
          },
          "xaxis": {
           "automargin": true,
           "gridcolor": "rgb(232,232,232)",
           "linecolor": "rgb(36,36,36)",
           "showgrid": false,
           "showline": true,
           "ticks": "outside",
           "title": {
            "standoff": 15
           },
           "zeroline": false,
           "zerolinecolor": "rgb(36,36,36)"
          },
          "yaxis": {
           "automargin": true,
           "gridcolor": "rgb(232,232,232)",
           "linecolor": "rgb(36,36,36)",
           "showgrid": false,
           "showline": true,
           "ticks": "outside",
           "title": {
            "standoff": 15
           },
           "zeroline": false,
           "zerolinecolor": "rgb(36,36,36)"
          }
         }
        },
        "title": {
         "font": {
          "color": "Black",
          "size": 22
         },
         "text": "<b>Topics over Time</b>",
         "x": 0.4,
         "xanchor": "center",
         "y": 0.95,
         "yanchor": "top"
        },
        "width": 1250,
        "xaxis": {
         "showgrid": true
        },
        "yaxis": {
         "showgrid": true,
         "title": {
          "text": "Frequency"
         }
        }
       }
      }
     },
     "metadata": {},
     "output_type": "display_data"
    }
   ],
   "source": [
    "topicModel.visualize_topics_over_time(topicsOverTime)"
   ]
  },
  {
   "cell_type": "code",
   "execution_count": null,
   "metadata": {},
   "outputs": [],
   "source": []
  }
 ],
 "metadata": {
  "kernelspec": {
   "display_name": "annoto-gai",
   "language": "python",
   "name": "python3"
  },
  "language_info": {
   "codemirror_mode": {
    "name": "ipython",
    "version": 3
   },
   "file_extension": ".py",
   "mimetype": "text/x-python",
   "name": "python",
   "nbconvert_exporter": "python",
   "pygments_lexer": "ipython3",
   "version": "3.12.3"
  }
 },
 "nbformat": 4,
 "nbformat_minor": 2
}
