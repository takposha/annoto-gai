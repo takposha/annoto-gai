{
 "cells": [
  {
   "cell_type": "code",
   "execution_count": null,
   "metadata": {},
   "outputs": [],
   "source": [
    "%reload_ext autoreload\n",
    "%autoreload 2\n",
    "\n",
    "from configData import configVars\n",
    "from transcriptLoader import TranscriptData\n",
    "\n",
    "# videoNames = [\n",
    "#     \"New Quizzes Video\",\n",
    "#     \"Rearrange Playlist video\",\n",
    "#     \"IMSE 514 Presentation\",\n",
    "#     \"New Google Assignments in Canvas\",\n",
    "#     \"Piazza Introduction Workshop\",\n",
    "# ]\n",
    "\n",
    "config = configVars()\n",
    "config.videoToUse = \"IMSE 514 Presentation\"\n",
    "config.setFromEnv()"
   ]
  },
  {
   "cell_type": "code",
   "execution_count": null,
   "metadata": {},
   "outputs": [],
   "source": [
    "from transcriptLoader import retrieveTranscript\n",
    "\n",
    "videoData = retrieveTranscript(config) #, overwrite=True)\n",
    "videoData.printTranscript()"
   ]
  },
  {
   "cell_type": "code",
   "execution_count": null,
   "metadata": {},
   "outputs": [],
   "source": [
    "from topicExtractor import retrieveTopics\n",
    "\n",
    "topicModeller = retrieveTopics(config) #, videoData) #, overwrite=True)\n",
    "topicModeller.printTopics()"
   ]
  },
  {
   "cell_type": "code",
   "execution_count": null,
   "metadata": {},
   "outputs": [],
   "source": [
    "from questionGenerator import retrieveQuestions\n",
    "\n",
    "questionData = retrieveQuestions(config) #, topicModeller, videoData) #, overwrite=True)\n",
    "questionData.printQuestions()"
   ]
  },
  {
   "cell_type": "code",
   "execution_count": null,
   "metadata": {},
   "outputs": [],
   "source": []
  }
 ],
 "metadata": {
  "kernelspec": {
   "display_name": "annoto-gai",
   "language": "python",
   "name": "python3"
  },
  "language_info": {
   "codemirror_mode": {
    "name": "ipython",
    "version": 3
   },
   "file_extension": ".py",
   "mimetype": "text/x-python",
   "name": "python",
   "nbconvert_exporter": "python",
   "pygments_lexer": "ipython3",
   "version": "3.12.3"
  }
 },
 "nbformat": 4,
 "nbformat_minor": 2
}
