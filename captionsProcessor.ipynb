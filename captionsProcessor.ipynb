{
 "cells": [
  {
   "cell_type": "code",
   "execution_count": 1,
   "metadata": {},
   "outputs": [],
   "source": [
    "%reload_ext autoreload\n",
    "%autoreload 2\n",
    "\n",
    "from config import Config\n",
    "from transcriptLoader import TranscriptData\n",
    "\n",
    "# videoNames = [\n",
    "#     \"New Quizzes Video\",\n",
    "#     \"Rearrange Playlist video\",\n",
    "#     \"IMSE 514 Presentation\",\n",
    "#     \"New Google Assignments in Canvas\",\n",
    "#     \"Piazza Introduction Workshop\",\n",
    "# ]\n",
    "\n",
    "config = Config()\n",
    "config.videoToUse = \"IMSE 514 Presentation\"\n",
    "config.setFromEnv()\n",
    "\n",
    "\n",
    "videoData = TranscriptData(config)"
   ]
  },
  {
   "cell_type": "code",
   "execution_count": 2,
   "metadata": {},
   "outputs": [
    {
     "name": "stdout",
     "output_type": "stream",
     "text": [
      "Topic Model and Data loaded from saved files.\n",
      "{-1: 'Feature Selection in Machine Learning', 0: 'Customer Churn Analysis', 1: 'Machine Learning Model Optimization'}\n"
     ]
    }
   ],
   "source": [
    "from topicExtractor import retrieveTopics\n",
    "\n",
    "topicModeller = retrieveTopics(config, videoData)\n",
    "topicModeller.printTopics()"
   ]
  },
  {
   "cell_type": "code",
   "execution_count": 3,
   "metadata": {},
   "outputs": [
    {
     "name": "stdout",
     "output_type": "stream",
     "text": [
      "Question Data loaded from saved files.\n",
      "Topic: Customer Churn Analysis\n",
      "Insert Point: 00:14:07\n",
      "Question: Which metric was emphasized as important for the prediction of churning customers due to the data imbalance in the customer churn analysis project?\n",
      "Answers: Accuracy\n",
      "\tRecall\n",
      "\tPrecision\n",
      "\tF1 Score\n",
      "Correct: Recall\n",
      "Reason: Recall was emphasized as the best option for the metric to focus on due to the data imbalance, as it is more important to correctly identify customers at risk of churning than to maintain overall accuracy, which could be misleading when the data is imbalanced.\n",
      "------------------------------------\n",
      "Topic: Machine Learning Model Optimization\n",
      "Insert Point: 00:22:25\n",
      "Question: Which sampling technique was mentioned as being effective for dealing with imbalanced datasets in the transcribed text?\n",
      "Answers: PCA sampling\n",
      "\tRandom oversampling\n",
      "\tSMOTE\n",
      "\tBagging\n",
      "Correct: SMOTE\n",
      "Reason: SMOTE is mentioned as a sampling technique that allows for oversampling of the minority class to balance the classes, which is particularly useful for imbalanced datasets. PCA is not a sampling technique but a dimensionality reduction method. Random oversampling is a simpler form of adding more copies of the minority class, but it is not specifically mentioned as the technique used. Bagging is an ensemble method, not a sampling technique.\n",
      "------------------------------------\n"
     ]
    }
   ],
   "source": [
    "from questionGenerator import retrieveQuestions\n",
    "\n",
    "questionData = retrieveQuestions(config, videoData, topicModeller)\n",
    "questionData.printQuestions()"
   ]
  },
  {
   "cell_type": "markdown",
   "metadata": {},
   "source": [
    "### This has not been fully implemented in a loggable way yet, but token counts monitoring appears to be working."
   ]
  },
  {
   "cell_type": "code",
   "execution_count": 4,
   "metadata": {},
   "outputs": [
    {
     "data": {
      "text/plain": [
       "(0, 0)"
      ]
     },
     "execution_count": 4,
     "metadata": {},
     "output_type": "execute_result"
    }
   ],
   "source": [
    "config.topicTokenCount, config.questionTokenCount"
   ]
  }
 ],
 "metadata": {
  "kernelspec": {
   "display_name": "annoto-gai",
   "language": "python",
   "name": "python3"
  },
  "language_info": {
   "codemirror_mode": {
    "name": "ipython",
    "version": 3
   },
   "file_extension": ".py",
   "mimetype": "text/x-python",
   "name": "python",
   "nbconvert_exporter": "python",
   "pygments_lexer": "ipython3",
   "version": "3.12.3"
  }
 },
 "nbformat": 4,
 "nbformat_minor": 2
}
