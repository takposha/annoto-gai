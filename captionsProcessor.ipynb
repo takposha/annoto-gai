{
 "cells": [
  {
   "cell_type": "code",
   "execution_count": 1,
   "metadata": {},
   "outputs": [
    {
     "name": "stderr",
     "output_type": "stream",
     "text": [
      "2024-06-21T12:34:33-0400 INFO [configData.py:252] - All configuration parameters set up successfully.\n"
     ]
    }
   ],
   "source": [
    "%reload_ext autoreload\n",
    "%autoreload 2\n",
    "\n",
    "from configData import configVars\n",
    "# videoNames = [\n",
    "#     \"New Quizzes Video\",\n",
    "#     \"New Google Assignments in Canvas\",\n",
    "#     \"Piazza Introduction Workshop\",\n",
    "#     \"New Quizzes - Basics\", # This transcript might fall back to K-Means in BERTopic for topic extraction.\n",
    "#     \"Sakai\", # This transcript might fall back to K-Means in BERTopic for topic extraction.\n",
    "#     \"Rearrange Playlist video\", # This transcript is too short for topic generation.\n",
    "#     \"IMSE 514 Presentation\", # This transcript was retrieved from YouTube with atuomatic captions, and fails at sentence segmentation.\n",
    "# ]\n",
    "\n",
    "config = configVars()\n",
    "# config.videoToUse = \"Sakai\"\n",
    "config.setFromEnv()"
   ]
  },
  {
   "cell_type": "code",
   "execution_count": 2,
   "metadata": {},
   "outputs": [
    {
     "name": "stderr",
     "output_type": "stream",
     "text": [
      "2024-06-21T12:34:46-0400 INFO [transcriptLoader.py:350] - Transcript Data loaded from saved files.\n",
      "2024-06-21T12:34:46-0400 INFO [transcriptLoader.py:351] - Transcript Data head:\n",
      "                                       Combined Lines                   Start  \\\n",
      "0  >> Me and Ryan are going to be presenting Piaz... 1900-01-01 00:00:00.530   \n",
      "1  Another fundamental role of Piazza is also to ... 1900-01-01 00:00:35.325   \n",
      "2  We're going to start with the homepage of Piaz... 1900-01-01 00:01:08.255   \n",
      "\n",
      "                      End  \n",
      "0 1900-01-01 00:00:35.325  \n",
      "1 1900-01-01 00:01:08.255  \n",
      "2 1900-01-01 00:01:46.930  \n",
      "2024-06-21T12:34:46-0400 INFO [BERTopicQuestionGenerator.py:244] - Question Data loaded from saved files.\n",
      "2024-06-21T12:34:46-0400 INFO [BERTopicQuestionGenerator.py:245] - Question Data Count: 3\n",
      "2024-06-21T12:34:46-0400 INFO [BERTopicQuestionGenerator.py:209] - Saving Question Data to file: Output Data\\Piazza Introduction Workshop\\Questions - BERTopic.txt\n",
      "2024-06-21T12:34:46-0400 INFO [BERTopicQuestionGenerator.py:213] - Question Data saved to file: Output Data\\Piazza Introduction Workshop\\Questions - BERTopic.txt\n"
     ]
    }
   ],
   "source": [
    "from transcriptLoader import retrieveTranscript\n",
    "from questionGenerator import retrieveQuestions\n",
    "\n",
    "videoData = retrieveTranscript(config)\n",
    "questionData = retrieveQuestions(config, videoData=videoData)"
   ]
  }
 ],
 "metadata": {
  "kernelspec": {
   "display_name": "annoto-gai",
   "language": "python",
   "name": "python3"
  },
  "language_info": {
   "codemirror_mode": {
    "name": "ipython",
    "version": 3
   },
   "file_extension": ".py",
   "mimetype": "text/x-python",
   "name": "python",
   "nbconvert_exporter": "python",
   "pygments_lexer": "ipython3",
   "version": "3.12.3"
  }
 },
 "nbformat": 4,
 "nbformat_minor": 2
}
