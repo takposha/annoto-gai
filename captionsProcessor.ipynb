{
 "cells": [
  {
   "cell_type": "code",
   "execution_count": 1,
   "metadata": {},
   "outputs": [],
   "source": [
    "%reload_ext autoreload\n",
    "%autoreload 2\n",
    "\n",
    "from config import Config\n",
    "from transcriptLoader import TranscriptData\n",
    "\n",
    "# videoNames = [\n",
    "#     \"New Quizzes Video\",\n",
    "#     \"Rearrange Playlist video\",\n",
    "#     \"IMSE 514 Presentation\",\n",
    "#     \"New Google Assignments in Canvas\",\n",
    "#     \"Piazza Introduction Workshop\",\n",
    "# ]\n",
    "\n",
    "config = Config()\n",
    "config.videoToUse = \"New Google Assignments in Canvas\"\n",
    "config.setFromEnv()\n",
    "\n",
    "\n",
    "videoData = TranscriptData(config)"
   ]
  },
  {
   "cell_type": "code",
   "execution_count": 2,
   "metadata": {},
   "outputs": [
    {
     "name": "stdout",
     "output_type": "stream",
     "text": [
      "Generating & saving Topic Model and Data...\n",
      "Topic Extraction Token Count: 19019\n",
      "Topic Model and Data generated and saved for current configuration.\n",
      "{-1: 'Educational Technology Integration', 0: 'Google Assignments Integration Guidance', 1: 'Educational Platform Demonstration', 2: 'Educational Rubric Creation'}\n"
     ]
    }
   ],
   "source": [
    "from topicExtractor import retrieveTopics\n",
    "\n",
    "topicModeller = retrieveTopics(config, videoData)\n",
    "topicModeller.printTopics()"
   ]
  },
  {
   "cell_type": "code",
   "execution_count": 3,
   "metadata": {},
   "outputs": [
    {
     "name": "stdout",
     "output_type": "stream",
     "text": [
      "Question Generation Token Count: 7497\n",
      "Question Data generated and saved for current configuration.\n",
      "Topic: Google Assignments Integration Guidance\n",
      "Insert Point: 00:30:34\n",
      "Question: What is the primary benefit of using the new Google Assignments integration as described by Angela Morocco?\n",
      "Answers: It allows for a faster, simpler way to distribute, analyze, and grade student work.\n",
      "\tIt provides unlimited plagiarism checks for student submissions.\n",
      "\tIt replaces the need for any LMS with a standalone platform.\n",
      "\tIt eliminates the need for students to submit their work.\n",
      "Correct: It allows for a faster, simpler way to distribute, analyze, and grade student work.\n",
      "Reason: The primary benefit mentioned is that Google Assignments integration offers a faster, simpler way to distribute, analyze, and grade student work using the collaborative power of Google Drive and Box, directly into the LMS.\n",
      "------------------------------------\n",
      "Topic: Educational Rubric Creation\n",
      "Insert Point: 00:34:38\n",
      "Question: What did the instructor at the School of Education use as a fun example for teaching novice teachers how to create rubrics?\n",
      "Answers: The ice cream rubric assignment\n",
      "\tThe essay rubric assignment\n",
      "\tThe blank document assignment\n",
      "\tThe point scale assignment\n",
      "Correct: The ice cream rubric assignment\n",
      "Reason: The instructor used 'the ice cream rubric assignment' as a fun example to teach novice teachers how to create rubrics, where they had to rate the quality of ice cream.\n",
      "------------------------------------\n",
      "Topic: Educational Platform Demonstration\n",
      "Insert Point: 00:52:55\n",
      "Question: In the educational platform demonstration, how can an instructor view the comment history for a student's submission?\n",
      "Answers: Click on the 'Open comment history' at the top of the page\n",
      "\tRequest the student to send a screenshot of their comments\n",
      "\tCheck their email notifications for comments\n",
      "\tLook for comments in the platform's main dashboard\n",
      "Correct: Click on the 'Open comment history' at the top of the page\n",
      "Reason: The instructor can view the comment history by clicking on 'Open comment history' at the top of the page, as mentioned in the transcript.\n",
      "------------------------------------\n"
     ]
    }
   ],
   "source": [
    "from questionGenerator import retrieveQuestions\n",
    "\n",
    "questionData = retrieveQuestions(config, videoData, topicModeller)\n",
    "questionData.printQuestions()"
   ]
  },
  {
   "cell_type": "markdown",
   "metadata": {},
   "source": [
    "### This has not been fully implemented in a loggable way yet, but token counts monitoring appears to be working."
   ]
  },
  {
   "cell_type": "code",
   "execution_count": 4,
   "metadata": {},
   "outputs": [
    {
     "data": {
      "text/plain": [
       "(19019, 7497)"
      ]
     },
     "execution_count": 4,
     "metadata": {},
     "output_type": "execute_result"
    }
   ],
   "source": [
    "config.topicTokenCount, config.questionTokenCount"
   ]
  }
 ],
 "metadata": {
  "kernelspec": {
   "display_name": "annoto-gai",
   "language": "python",
   "name": "python3"
  },
  "language_info": {
   "codemirror_mode": {
    "name": "ipython",
    "version": 3
   },
   "file_extension": ".py",
   "mimetype": "text/x-python",
   "name": "python",
   "nbconvert_exporter": "python",
   "pygments_lexer": "ipython3",
   "version": "3.12.3"
  }
 },
 "nbformat": 4,
 "nbformat_minor": 2
}
