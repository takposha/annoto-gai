{
 "cells": [
  {
   "cell_type": "code",
   "execution_count": 1,
   "metadata": {},
   "outputs": [],
   "source": [
    "%reload_ext autoreload\n",
    "%autoreload 2\n",
    "\n",
    "from config import Config\n",
    "from transcriptLoader import getCombinedTranscripts \n",
    "\n",
    "config = Config()\n",
    "config.setFromEnv()\n",
    "\n",
    "videoNames = [\n",
    "    \"New Quizzes Video\",\n",
    "    \"Rearrange Playlist video\",\n",
    "    \"IMSE 514 Presentation\",\n",
    "    \"New Google Assignments in Canvas\",\n",
    "    \"Piazza Introduction Workshop\",\n",
    "]\n",
    "\n",
    "videoToUse = \"New Google Assignments in Canvas\"\n",
    "transcriptToUse = getCombinedTranscripts(\n",
    "    videoToUse,\n",
    "    captionsFolder=\"Captions\",\n",
    ")"
   ]
  },
  {
   "cell_type": "code",
   "execution_count": 2,
   "metadata": {},
   "outputs": [
    {
     "name": "stderr",
     "output_type": "stream",
     "text": [
      "c:\\Users\\takposha\\AppData\\Local\\anaconda3\\envs\\annoto-gai\\Lib\\site-packages\\bertopic\\vectorizers\\_ctfidf.py:82: RuntimeWarning: divide by zero encountered in divide\n",
      "  idf = np.log((avg_nr_samples / df)+1)\n"
     ]
    }
   ],
   "source": [
    "from topicExtractor import retrieveTopics\n",
    "\n",
    "topicsOverTime, topicModel = retrieveTopics(videoToUse, transcriptToUse, config=config)"
   ]
  },
  {
   "cell_type": "code",
   "execution_count": null,
   "metadata": {},
   "outputs": [],
   "source": []
  }
 ],
 "metadata": {
  "kernelspec": {
   "display_name": "annoto-gai",
   "language": "python",
   "name": "python3"
  },
  "language_info": {
   "codemirror_mode": {
    "name": "ipython",
    "version": 3
   },
   "file_extension": ".py",
   "mimetype": "text/x-python",
   "name": "python",
   "nbconvert_exporter": "python",
   "pygments_lexer": "ipython3",
   "version": "3.12.3"
  }
 },
 "nbformat": 4,
 "nbformat_minor": 2
}
